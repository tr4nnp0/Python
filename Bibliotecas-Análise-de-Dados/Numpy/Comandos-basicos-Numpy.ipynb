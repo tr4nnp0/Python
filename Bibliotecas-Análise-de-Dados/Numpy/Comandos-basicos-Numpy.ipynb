{
 "cells": [
  {
   "cell_type": "markdown",
   "id": "bf855cd5",
   "metadata": {},
   "source": [
    "<center><h3><b>BASIC COMMANDS - NUMPY<b/><h3/><center/>"
   ]
  },
  {
   "cell_type": "code",
   "execution_count": 7,
   "id": "31cc1395",
   "metadata": {},
   "outputs": [],
   "source": [
    "#Importando a biblioteca\n",
    "\n",
    "import numpy as np"
   ]
  },
  {
   "cell_type": "code",
   "execution_count": 8,
   "id": "f0e2a4b5",
   "metadata": {},
   "outputs": [
    {
     "name": "stdout",
     "output_type": "stream",
     "text": [
      "[18 21 32 44 56 64 73 85 99]\n"
     ]
    }
   ],
   "source": [
    "#Criando e visualizando array a partir da função array\n",
    "\n",
    "array1 = np.array([18,21,32,44,56,64,73,85,99])\n",
    "print(array1)"
   ]
  },
  {
   "cell_type": "code",
   "execution_count": 9,
   "id": "fa82ee0f",
   "metadata": {},
   "outputs": [
    {
     "data": {
      "text/plain": [
       "(9,)"
      ]
     },
     "execution_count": 9,
     "metadata": {},
     "output_type": "execute_result"
    }
   ],
   "source": [
    "#Verificando o formato/número de dimensões do array\n",
    "\n",
    "array1.shape"
   ]
  },
  {
   "cell_type": "code",
   "execution_count": 13,
   "id": "4bfa93da",
   "metadata": {},
   "outputs": [
    {
     "data": {
      "text/plain": [
       "array([21, 32, 64, 73])"
      ]
     },
     "execution_count": 13,
     "metadata": {},
     "output_type": "execute_result"
    }
   ],
   "source": [
    "#Criando lista de índices e visualizando elementos\n",
    "\n",
    "indices = [1,2,5,6]\n",
    "array1[indices]"
   ]
  },
  {
   "cell_type": "code",
   "execution_count": 18,
   "id": "b086902d",
   "metadata": {},
   "outputs": [
    {
     "data": {
      "text/plain": [
       "array([18, 32, 44, 56, 64])"
      ]
     },
     "execution_count": 18,
     "metadata": {},
     "output_type": "execute_result"
    }
   ],
   "source": [
    "#Verificando os pares\n",
    "\n",
    "mascara = (array1 % 2 == 0)\n",
    "array1[mascara]"
   ]
  },
  {
   "cell_type": "code",
   "execution_count": 19,
   "id": "6637d625",
   "metadata": {},
   "outputs": [
    {
     "data": {
      "text/plain": [
       "array([ 18,  39,  71, 115, 171, 235, 308, 393, 492])"
      ]
     },
     "execution_count": 19,
     "metadata": {},
     "output_type": "execute_result"
    }
   ],
   "source": [
    "#Visualizar a soma acumulada dos elementos\n",
    "\n",
    "array1.cumsum()"
   ]
  },
  {
   "cell_type": "code",
   "execution_count": 20,
   "id": "49af55b3",
   "metadata": {},
   "outputs": [
    {
     "data": {
      "text/plain": [
       "array([        18,        378,      12096,     532224,   29804544,\n",
       "       1907490816, 1807876096, -949354496,  503185408])"
      ]
     },
     "execution_count": 20,
     "metadata": {},
     "output_type": "execute_result"
    }
   ],
   "source": [
    "#Visualizar o produto acumulado dos elementos\n",
    "\n",
    "array1.cumprod()"
   ]
  },
  {
   "cell_type": "code",
   "execution_count": 23,
   "id": "13bd087d",
   "metadata": {},
   "outputs": [
    {
     "data": {
      "text/plain": [
       "array([ 0,  4,  8, 12, 16, 20, 24, 28, 32, 36])"
      ]
     },
     "execution_count": 23,
     "metadata": {},
     "output_type": "execute_result"
    }
   ],
   "source": [
    "#Criar progressão aritmética com função arange\n",
    "\n",
    "array2 = np.arange(0,40,4)\n",
    "array2"
   ]
  },
  {
   "cell_type": "code",
   "execution_count": 24,
   "id": "db507e7c",
   "metadata": {},
   "outputs": [
    {
     "data": {
      "text/plain": [
       "array([0., 0., 0., 0., 0., 0., 0., 0., 0., 0.])"
      ]
     },
     "execution_count": 24,
     "metadata": {},
     "output_type": "execute_result"
    }
   ],
   "source": [
    "#Criar array preenchido com zeros\n",
    "\n",
    "array3 = np.zeros(10)\n",
    "array3"
   ]
  },
  {
   "cell_type": "code",
   "execution_count": 26,
   "id": "6342c7b4",
   "metadata": {},
   "outputs": [
    {
     "data": {
      "text/plain": [
       "array([[1., 0., 0., 0.],\n",
       "       [0., 1., 0., 0.],\n",
       "       [0., 0., 1., 0.],\n",
       "       [0., 0., 0., 1.]])"
      ]
     },
     "execution_count": 26,
     "metadata": {},
     "output_type": "execute_result"
    }
   ],
   "source": [
    "#Criar matriz identidade \n",
    "\n",
    "array4 = np.eye(4)\n",
    "array4"
   ]
  },
  {
   "cell_type": "code",
   "execution_count": 33,
   "id": "6c2caab8",
   "metadata": {},
   "outputs": [
    {
     "data": {
      "text/plain": [
       "array([[1, 0, 0, 0],\n",
       "       [0, 3, 0, 0],\n",
       "       [0, 0, 5, 0],\n",
       "       [0, 0, 0, 7]])"
      ]
     },
     "execution_count": 33,
     "metadata": {},
     "output_type": "execute_result"
    }
   ],
   "source": [
    "#Criar matriz com diagonal com valores diferentes de zero\n",
    "\n",
    "array5 = np.diag(np.array([1,3,5,7]))\n",
    "array5"
   ]
  },
  {
   "cell_type": "code",
   "execution_count": 34,
   "id": "be4e6882",
   "metadata": {},
   "outputs": [
    {
     "name": "stdout",
     "output_type": "stream",
     "text": [
      "[ 0.          0.20408163  0.40816327  0.6122449   0.81632653  1.02040816\n",
      "  1.2244898   1.42857143  1.63265306  1.83673469  2.04081633  2.24489796\n",
      "  2.44897959  2.65306122  2.85714286  3.06122449  3.26530612  3.46938776\n",
      "  3.67346939  3.87755102  4.08163265  4.28571429  4.48979592  4.69387755\n",
      "  4.89795918  5.10204082  5.30612245  5.51020408  5.71428571  5.91836735\n",
      "  6.12244898  6.32653061  6.53061224  6.73469388  6.93877551  7.14285714\n",
      "  7.34693878  7.55102041  7.75510204  7.95918367  8.16326531  8.36734694\n",
      "  8.57142857  8.7755102   8.97959184  9.18367347  9.3877551   9.59183673\n",
      "  9.79591837 10.        ]\n"
     ]
    }
   ],
   "source": [
    "#Criar array com elementos espaçados no mesmo intervalo\n",
    "\n",
    "print(np.linspace(0,10))"
   ]
  },
  {
   "cell_type": "code",
   "execution_count": 35,
   "id": "4a8e65f8",
   "metadata": {},
   "outputs": [
    {
     "name": "stdout",
     "output_type": "stream",
     "text": [
      "[1.00000000e+00 1.59985872e+00 2.55954792e+00 4.09491506e+00\n",
      " 6.55128557e+00 1.04811313e+01 1.67683294e+01 2.68269580e+01\n",
      " 4.29193426e+01 6.86648845e+01 1.09854114e+02 1.75751062e+02\n",
      " 2.81176870e+02 4.49843267e+02 7.19685673e+02 1.15139540e+03\n",
      " 1.84206997e+03 2.94705170e+03 4.71486636e+03 7.54312006e+03\n",
      " 1.20679264e+04 1.93069773e+04 3.08884360e+04 4.94171336e+04\n",
      " 7.90604321e+04 1.26485522e+05 2.02358965e+05 3.23745754e+05\n",
      " 5.17947468e+05 8.28642773e+05 1.32571137e+06 2.12095089e+06\n",
      " 3.39322177e+06 5.42867544e+06 8.68511374e+06 1.38949549e+07\n",
      " 2.22299648e+07 3.55648031e+07 5.68986603e+07 9.10298178e+07\n",
      " 1.45634848e+08 2.32995181e+08 3.72759372e+08 5.96362332e+08\n",
      " 9.54095476e+08 1.52641797e+09 2.44205309e+09 3.90693994e+09\n",
      " 6.25055193e+09 1.00000000e+10]\n"
     ]
    }
   ],
   "source": [
    "#Criar array com elementos espaçados num mesmo intervalo em escala logarítmica\n",
    "\n",
    "print(np.logspace(0,10))"
   ]
  },
  {
   "cell_type": "code",
   "execution_count": 36,
   "id": "230acfa0",
   "metadata": {},
   "outputs": [
    {
     "data": {
      "text/plain": [
       "array([[1, 2, 3],\n",
       "       [4, 5, 6]])"
      ]
     },
     "execution_count": 36,
     "metadata": {},
     "output_type": "execute_result"
    }
   ],
   "source": [
    "#Criando matriz\n",
    "\n",
    "matriz = np.array([[1,2,3],[4,5,6]])\n",
    "matriz"
   ]
  },
  {
   "cell_type": "code",
   "execution_count": 39,
   "id": "3fa2d9c1",
   "metadata": {},
   "outputs": [
    {
     "data": {
      "text/plain": [
       "array([[1., 1., 1.],\n",
       "       [1., 1., 1.]])"
      ]
     },
     "execution_count": 39,
     "metadata": {},
     "output_type": "execute_result"
    }
   ],
   "source": [
    "#Criando matriz 2x3 preenchida por 1\n",
    "\n",
    "matriz23 = np.ones((2,3))\n",
    "matriz23"
   ]
  },
  {
   "cell_type": "code",
   "execution_count": 40,
   "id": "e908d05a",
   "metadata": {},
   "outputs": [
    {
     "data": {
      "text/plain": [
       "matrix([[13, 81, 22],\n",
       "        [ 0, 34, 59],\n",
       "        [22, 85, 63]])"
      ]
     },
     "execution_count": 40,
     "metadata": {},
     "output_type": "execute_result"
    }
   ],
   "source": [
    "#Criando matriz a partir de lista de listas\n",
    "\n",
    "lista = [[13,81,22], [0,34,59], [22,85,63]]\n",
    "matriz33 = np.matrix(lista)\n",
    "matriz33"
   ]
  },
  {
   "cell_type": "code",
   "execution_count": 44,
   "id": "67ed2eee",
   "metadata": {},
   "outputs": [
    {
     "data": {
      "text/plain": [
       "matrix([[22],\n",
       "        [59]])"
      ]
     },
     "execution_count": 44,
     "metadata": {},
     "output_type": "execute_result"
    }
   ],
   "source": [
    "#Visualizar os 2 primeiras linhas da coluna 3\n",
    "\n",
    "matriz33[0:2,2]"
   ]
  },
  {
   "cell_type": "code",
   "execution_count": 47,
   "id": "aa3c117d",
   "metadata": {},
   "outputs": [
    {
     "name": "stdout",
     "output_type": "stream",
     "text": [
      "[1. 2. 7. 9. 6. 3.]\n"
     ]
    }
   ],
   "source": [
    "#Forçando float como saída do array\n",
    "\n",
    "x = np.array([1,2,7,9,6,3], dtype = np.float64)\n",
    "print(x)"
   ]
  },
  {
   "cell_type": "code",
   "execution_count": 48,
   "id": "76f88690",
   "metadata": {},
   "outputs": [
    {
     "data": {
      "text/plain": [
       "8"
      ]
     },
     "execution_count": 48,
     "metadata": {},
     "output_type": "execute_result"
    }
   ],
   "source": [
    "#Vereificando o espaço em bytes ocupado na memória por cada elemento\n",
    "\n",
    "x.itemsize"
   ]
  },
  {
   "cell_type": "code",
   "execution_count": null,
   "id": "635db2ba",
   "metadata": {},
   "outputs": [],
   "source": []
  }
 ],
 "metadata": {
  "kernelspec": {
   "display_name": "Python 3 (ipykernel)",
   "language": "python",
   "name": "python3"
  },
  "language_info": {
   "codemirror_mode": {
    "name": "ipython",
    "version": 3
   },
   "file_extension": ".py",
   "mimetype": "text/x-python",
   "name": "python",
   "nbconvert_exporter": "python",
   "pygments_lexer": "ipython3",
   "version": "3.9.13"
  }
 },
 "nbformat": 4,
 "nbformat_minor": 5
}
